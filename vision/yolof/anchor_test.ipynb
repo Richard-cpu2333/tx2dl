{
 "cells": [
  {
   "cell_type": "code",
   "execution_count": null,
   "metadata": {},
   "outputs": [],
   "source": [
    "import torch\n",
    "import numpy as np\n",
    "import os,sys,time,random,cv2\n",
    "import matplotlib.pyplot as plt\n",
    "\n",
    "print(f\"current env:{os.getcwd()}\")\n",
    "print(f\"torch.__version__:{torch.__version__}\")"
   ]
  },
  {
   "cell_type": "code",
   "execution_count": null,
   "metadata": {},
   "outputs": [],
   "source": []
  }
 ],
 "metadata": {
  "kernelspec": {
   "display_name": "Python 3",
   "language": "python",
   "name": "python3"
  }
 },
 "nbformat": 4,
 "nbformat_minor": 2
}
